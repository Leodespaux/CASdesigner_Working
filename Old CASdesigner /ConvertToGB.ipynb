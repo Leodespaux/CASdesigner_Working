{
 "cells": [
  {
   "cell_type": "code",
   "execution_count": 3,
   "metadata": {
    "collapsed": false
   },
   "outputs": [
    {
     "name": "stdout",
     "output_type": "stream",
     "text": [
      "ID: <unknown id>\n",
      "Name: <unknown name>\n",
      "Description: <unknown description>\n",
      "Number of features: 0\n",
      "Seq('AGTACACTGGT', IUPACUnambiguousDNA())\n"
     ]
    },
    {
     "data": {
      "text/plain": [
       "1"
      ]
     },
     "execution_count": 3,
     "metadata": {},
     "output_type": "execute_result"
    }
   ],
   "source": [
    "# import libraries we're using\n",
    "\n",
    "from Bio.Seq import Seq\n",
    "from Bio.SeqRecord import SeqRecord\n",
    "from Bio import SeqIO\n",
    "from Bio.SeqUtils import MeltingTemp\n",
    "import copy\n",
    "from intermine.webservice import Service\n",
    "from pandas import *\n",
    "from pandas import DataFrame, read_csv\n",
    "import pandas as pd  \n",
    "import matplotlib.pyplot as plt\n",
    "import sys\n",
    "from IPython.display import Image\n",
    "from IPython.display import display\n",
    "from Bio import Alphabet\n",
    "from Bio.Alphabet import IUPAC\n",
    "%matplotlib inline \n",
    "\n",
    "# import libraries we're using\n",
    "my_seq = Seq(\"AGTACACTGGT\", IUPAC.unambiguous_dna)\n",
    "MyRec=SeqRecord(my_seq)\n",
    "print(MyRec)\n",
    "SeqIO.write(MyRec, \"SeqRec.gb\", \"genbank\")\n",
    "\n"
   ]
  },
  {
   "cell_type": "code",
   "execution_count": null,
   "metadata": {
    "collapsed": true
   },
   "outputs": [],
   "source": []
  }
 ],
 "metadata": {
  "kernelspec": {
   "display_name": "Python 3",
   "language": "python",
   "name": "python3"
  },
  "language_info": {
   "codemirror_mode": {
    "name": "ipython",
    "version": 3
   },
   "file_extension": ".py",
   "mimetype": "text/x-python",
   "name": "python",
   "nbconvert_exporter": "python",
   "pygments_lexer": "ipython3",
   "version": "3.4.3"
  }
 },
 "nbformat": 4,
 "nbformat_minor": 0
}
